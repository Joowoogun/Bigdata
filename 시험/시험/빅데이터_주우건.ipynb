{
 "cells": [
  {
   "cell_type": "markdown",
   "id": "f49fe2e4",
   "metadata": {},
   "source": [
    "# 필기답안지"
   ]
  },
  {
   "cell_type": "markdown",
   "id": "74e88e62",
   "metadata": {},
   "source": [
    "## 문제1 \n",
    "다음은 빅데이터 수집방식에 대한 설명이다. 빈 칸에 알맞은 방식을 고르시오."
   ]
  },
  {
   "cell_type": "markdown",
   "id": "29baa41a",
   "metadata": {},
   "source": [
    "- 1 : 로그수집\n",
    "- 2 : 크롤링\n",
    "- 3 : 오픈API\n",
    "- 4 : 센서수집"
   ]
  },
  {
   "cell_type": "markdown",
   "id": "098be8fb",
   "metadata": {},
   "source": [
    "## 문제2\n",
    "크롤링의 개념과 필요성에 대해 서술하시오.\n",
    "- 답안 : 사이트를 가져와 필요한 정보를 추출하거나 자동으로 수집하게끔 하는 행위"
   ]
  },
  {
   "cell_type": "markdown",
   "id": "29e08d76",
   "metadata": {},
   "source": [
    "## 문제3\n",
    "BeautifulSoup모듈에 대해 서술하시오.\n",
    "- 답안 : Requests로 가져온 텍스트 자료를 컴퓨터가 이해할수 있게 HTML로 변환 시켜주는 라이브러리."
   ]
  },
  {
   "cell_type": "markdown",
   "id": "04c5d7be",
   "metadata": {},
   "source": [
    "## 문제4\n",
    "다음 두 보기의 차이를 설명하시오.\n",
    "- 1 : find_element(By.CSS_SELECTOR) : 데이터 한개만 추출할때 사용한다\n",
    "- 2 : find_elements(By.CSS_SELECTOR) : 데이터들을 가져올때 사용"
   ]
  },
  {
   "cell_type": "markdown",
   "id": "f82501f0",
   "metadata": {},
   "source": [
    "## 문제5\n",
    "다음은 HTML코드로 이루어진 웹 페이지이다. 밑줄 그어진 부분 BeautifulSoup 모듈의 함수를 이용하여 텍스트만 수집할 수 있는 코드에 빈칸을 작성하시오.\n",
    "- soup = bs(res.text, ‘lxml’)\n",
    "- crawling = soup.select_one((\"#this_span\"))\n",
    "- print(crawling.(text))"
   ]
  },
  {
   "cell_type": "markdown",
   "id": "de85ce27",
   "metadata": {},
   "source": [
    "# 실기답안지"
   ]
  },
  {
   "cell_type": "markdown",
   "id": "b2e6a5d6",
   "metadata": {},
   "source": [
    "## 문제2\n",
    "자동제어를 통해 네이버 홈페이지에 접속하고 ‘크롤링’를 입력하여 검색하는      시스템을 구축하시오."
   ]
  },
  {
   "cell_type": "code",
   "execution_count": 13,
   "id": "88f056a8",
   "metadata": {},
   "outputs": [],
   "source": [
    "from selenium import webdriver as wb\n",
    "from selenium.webdriver.common.keys import Keys\n",
    "from selenium.webdriver.common.by import By\n",
    "import time\n",
    "import pandas as pd"
   ]
  },
  {
   "cell_type": "code",
   "execution_count": 121,
   "id": "a524a487",
   "metadata": {},
   "outputs": [],
   "source": [
    "driver = wb.Chrome()\n",
    "time.sleep(1)\n",
    "driver.get(\"http://www.naver.com\")\n",
    "time.sleep(1)\n",
    "search = driver.find_element(By.ID, \"query\")\n",
    "time.sleep(1)\n",
    "search.send_keys(\"크롤링\")\n",
    "search.send_keys(Keys.ENTER)"
   ]
  },
  {
   "cell_type": "markdown",
   "id": "dd7ec12a",
   "metadata": {},
   "source": [
    "# 문제3\n",
    "자동제어를 통해 G마켓 홈페이지에 접속하고, 조건에 맞는 수집프로그램을 만드시오."
   ]
  },
  {
   "cell_type": "code",
   "execution_count": 6,
   "id": "f8cbe3be",
   "metadata": {},
   "outputs": [],
   "source": [
    "driver = wb.Chrome()\n",
    "time.sleep(1)\n",
    "driver.get(\"https://www.gmarket.co.kr/n/best\")\n"
   ]
  },
  {
   "cell_type": "code",
   "execution_count": 22,
   "id": "5d931240",
   "metadata": {},
   "outputs": [],
   "source": [
    "name = driver.find_elements(By.CSS_SELECTOR, \"#gBestWrap > div.best-list > ul > li > a\")\n",
    "price = driver.find_elements(By.CSS_SELECTOR, \"#gBestWrap > div.best-list > ul > li> div.item_price > div.s-price > strong > span\")"
   ]
  },
  {
   "cell_type": "code",
   "execution_count": 23,
   "id": "216b1401",
   "metadata": {},
   "outputs": [],
   "source": [
    "names=[]\n",
    "prices=[]\n",
    "num = []\n",
    "for i in range(20) :\n",
    "    names.append(name[i].text)\n",
    "    prices.append(price[i].text)\n",
    "    num.append(i+1)"
   ]
  },
  {
   "cell_type": "code",
   "execution_count": 27,
   "id": "e65a0fb7",
   "metadata": {},
   "outputs": [],
   "source": [
    "frame = pd.DataFrame({\"순위\" : num,\"이름\": names, \"가격\" : prices})"
   ]
  },
  {
   "cell_type": "code",
   "execution_count": 31,
   "id": "d6529f0d",
   "metadata": {},
   "outputs": [],
   "source": [
    "frame.set_index(\"순위\",inplace=True)"
   ]
  },
  {
   "cell_type": "code",
   "execution_count": 33,
   "id": "ea1f9e5b",
   "metadata": {
    "collapsed": true
   },
   "outputs": [
    {
     "data": {
      "text/html": [
       "<div>\n",
       "<style scoped>\n",
       "    .dataframe tbody tr th:only-of-type {\n",
       "        vertical-align: middle;\n",
       "    }\n",
       "\n",
       "    .dataframe tbody tr th {\n",
       "        vertical-align: top;\n",
       "    }\n",
       "\n",
       "    .dataframe thead th {\n",
       "        text-align: right;\n",
       "    }\n",
       "</style>\n",
       "<table border=\"1\" class=\"dataframe\">\n",
       "  <thead>\n",
       "    <tr style=\"text-align: right;\">\n",
       "      <th></th>\n",
       "      <th>이름</th>\n",
       "      <th>가격</th>\n",
       "    </tr>\n",
       "    <tr>\n",
       "      <th>순위</th>\n",
       "      <th></th>\n",
       "      <th></th>\n",
       "    </tr>\n",
       "  </thead>\n",
       "  <tbody>\n",
       "    <tr>\n",
       "      <th>1</th>\n",
       "      <td>슈퍼파워 터보 팬 다용도 에어건 크로스건 13만RPM 자동차 눈털기 먼지털기 캠핑 ...</td>\n",
       "      <td>38,500원</td>\n",
       "    </tr>\n",
       "    <tr>\n",
       "      <th>2</th>\n",
       "      <td>수퍼맘스토리카페/총 120종의 대작/보카사이언스/Visual Literacy/Tal...</td>\n",
       "      <td>178,800원</td>\n",
       "    </tr>\n",
       "    <tr>\n",
       "      <th>3</th>\n",
       "      <td>(최종2.3만)차이슨 헤어 드라이어 드라이기+노즐5개</td>\n",
       "      <td>31,850원</td>\n",
       "    </tr>\n",
       "    <tr>\n",
       "      <th>4</th>\n",
       "      <td>(선)브래비 유니 TRAINING SET F-ZIP N231UFT010</td>\n",
       "      <td>79,470원</td>\n",
       "    </tr>\n",
       "    <tr>\n",
       "      <th>5</th>\n",
       "      <td>(15%+5%쿠폰) 브이빈 겨울마감+봄맞이 BEST신상 데일리룩/가디건/니트/자켓/...</td>\n",
       "      <td>10,000원</td>\n",
       "    </tr>\n",
       "    <tr>\n",
       "      <th>6</th>\n",
       "      <td>[메가박스](유니버스클럽 전용 쿠폰적용가 5천원) 메가박스 일반예매권 2D-주중/주말</td>\n",
       "      <td>15,000원</td>\n",
       "    </tr>\n",
       "    <tr>\n",
       "      <th>7</th>\n",
       "      <td>BSP D9 휴대용 모바일 게이밍 컨트롤러 안드로이드 아이폰 태블릿 스위치 PC 윈...</td>\n",
       "      <td>43,600원</td>\n",
       "    </tr>\n",
       "    <tr>\n",
       "      <th>8</th>\n",
       "      <td>[마켓오네이처]오리온 마켓오 치즈톡 달콤치즈맛 80g x12개 (1박스)</td>\n",
       "      <td>17,600원</td>\n",
       "    </tr>\n",
       "    <tr>\n",
       "      <th>9</th>\n",
       "      <td>[버블트리]15%+10% 버블트리 봄신상 스쿨룩 베이비페어 특가전</td>\n",
       "      <td>15,000원</td>\n",
       "    </tr>\n",
       "    <tr>\n",
       "      <th>10</th>\n",
       "      <td>[서울우유]멸균우유 200ml 24입+24입 (2박스)</td>\n",
       "      <td>26,970원</td>\n",
       "    </tr>\n",
       "    <tr>\n",
       "      <th>11</th>\n",
       "      <td>[푸마](신세계하남점)PUMA 단독 할인 푸마 남여공용 편안한 운동화 ST Runn...</td>\n",
       "      <td>42,660원</td>\n",
       "    </tr>\n",
       "    <tr>\n",
       "      <th>12</th>\n",
       "      <td>슈퍼파워 터보 팬 다용도 에어건 크로스건 블랙 무료배송</td>\n",
       "      <td>38,900원</td>\n",
       "    </tr>\n",
       "    <tr>\n",
       "      <th>13</th>\n",
       "      <td>[포스트]포스트 아몬드후레이크 620gx3 +밀폐용기2P(증정)</td>\n",
       "      <td>16,170원</td>\n",
       "    </tr>\n",
       "    <tr>\n",
       "      <th>14</th>\n",
       "      <td>여수사나이 국내산 돌산갓김치 1.5kg 남도김치 산지직송 당일생산</td>\n",
       "      <td>11,000원</td>\n",
       "    </tr>\n",
       "    <tr>\n",
       "      <th>15</th>\n",
       "      <td>못난이 한라봉 4.5kg 혼합과 벌크포장</td>\n",
       "      <td>19,010원</td>\n",
       "    </tr>\n",
       "    <tr>\n",
       "      <th>16</th>\n",
       "      <td>[한성기업]한성기업 크래미 몬스터크랩 72g X 15개</td>\n",
       "      <td>17,900원</td>\n",
       "    </tr>\n",
       "    <tr>\n",
       "      <th>17</th>\n",
       "      <td>[로코엘라](15%+5%쿠폰+무료반품) 홈쇼핑 1+1.SET 니트/팬츠/패딩 외 그...</td>\n",
       "      <td>11,580원</td>\n",
       "    </tr>\n",
       "    <tr>\n",
       "      <th>18</th>\n",
       "      <td>[에잇세컨즈]무료반품+18%쿠폰 에잇세컨즈 설레는 봄맞이 특가 입고 셔츠/바지/니트外</td>\n",
       "      <td>14,900원</td>\n",
       "    </tr>\n",
       "    <tr>\n",
       "      <th>19</th>\n",
       "      <td>[제주삼다수]제주삼다수 무라벨 2L 24병 /생수전문배송</td>\n",
       "      <td>22,800원</td>\n",
       "    </tr>\n",
       "    <tr>\n",
       "      <th>20</th>\n",
       "      <td>(봄이아트북스) 공룡대발이 유치원 동화 20권 세트 (세이펜호환)</td>\n",
       "      <td>59,000원</td>\n",
       "    </tr>\n",
       "  </tbody>\n",
       "</table>\n",
       "</div>"
      ],
      "text/plain": [
       "                                                   이름        가격\n",
       "순위                                                             \n",
       "1   슈퍼파워 터보 팬 다용도 에어건 크로스건 13만RPM 자동차 눈털기 먼지털기 캠핑 ...   38,500원\n",
       "2   수퍼맘스토리카페/총 120종의 대작/보카사이언스/Visual Literacy/Tal...  178,800원\n",
       "3                       (최종2.3만)차이슨 헤어 드라이어 드라이기+노즐5개   31,850원\n",
       "4             (선)브래비 유니 TRAINING SET F-ZIP N231UFT010   79,470원\n",
       "5   (15%+5%쿠폰) 브이빈 겨울마감+봄맞이 BEST신상 데일리룩/가디건/니트/자켓/...   10,000원\n",
       "6     [메가박스](유니버스클럽 전용 쿠폰적용가 5천원) 메가박스 일반예매권 2D-주중/주말   15,000원\n",
       "7   BSP D9 휴대용 모바일 게이밍 컨트롤러 안드로이드 아이폰 태블릿 스위치 PC 윈...   43,600원\n",
       "8            [마켓오네이처]오리온 마켓오 치즈톡 달콤치즈맛 80g x12개 (1박스)   17,600원\n",
       "9                [버블트리]15%+10% 버블트리 봄신상 스쿨룩 베이비페어 특가전   15,000원\n",
       "10                     [서울우유]멸균우유 200ml 24입+24입 (2박스)   26,970원\n",
       "11  [푸마](신세계하남점)PUMA 단독 할인 푸마 남여공용 편안한 운동화 ST Runn...   42,660원\n",
       "12                     슈퍼파워 터보 팬 다용도 에어건 크로스건 블랙 무료배송   38,900원\n",
       "13                [포스트]포스트 아몬드후레이크 620gx3 +밀폐용기2P(증정)   16,170원\n",
       "14               여수사나이 국내산 돌산갓김치 1.5kg 남도김치 산지직송 당일생산   11,000원\n",
       "15                             못난이 한라봉 4.5kg 혼합과 벌크포장   19,010원\n",
       "16                     [한성기업]한성기업 크래미 몬스터크랩 72g X 15개   17,900원\n",
       "17  [로코엘라](15%+5%쿠폰+무료반품) 홈쇼핑 1+1.SET 니트/팬츠/패딩 외 그...   11,580원\n",
       "18    [에잇세컨즈]무료반품+18%쿠폰 에잇세컨즈 설레는 봄맞이 특가 입고 셔츠/바지/니트外   14,900원\n",
       "19                    [제주삼다수]제주삼다수 무라벨 2L 24병 /생수전문배송   22,800원\n",
       "20               (봄이아트북스) 공룡대발이 유치원 동화 20권 세트 (세이펜호환)   59,000원"
      ]
     },
     "execution_count": 33,
     "metadata": {},
     "output_type": "execute_result"
    }
   ],
   "source": [
    "frame"
   ]
  },
  {
   "cell_type": "markdown",
   "id": "5fb5a240",
   "metadata": {},
   "source": [
    "# 문제4\n",
    "멜론차트에서 1~100위까지 정보를 수집하는 프로그램을 작성하시오."
   ]
  },
  {
   "cell_type": "code",
   "execution_count": 37,
   "id": "90c6e1b4",
   "metadata": {},
   "outputs": [],
   "source": [
    "import requests as req\n",
    "from bs4 import BeautifulSoup as bs"
   ]
  },
  {
   "cell_type": "code",
   "execution_count": 69,
   "id": "ff0bcaa2",
   "metadata": {},
   "outputs": [],
   "source": [
    "head = {\"User-Agent\":\"Mozilla/5.0 (Windows NT 10.0; Win64; x64) AppleWebKit/537.36 (KHTML, like Gecko) Chrome/121.0.0.0 Safari/537.36\"}"
   ]
  },
  {
   "cell_type": "code",
   "execution_count": 70,
   "id": "4781150e",
   "metadata": {},
   "outputs": [],
   "source": [
    "melon = req.get(\"https://www.melon.com/chart/index.htm\", headers = head )"
   ]
  },
  {
   "cell_type": "code",
   "execution_count": 72,
   "id": "2e308343",
   "metadata": {},
   "outputs": [],
   "source": [
    "melonsoup = bs(melon.text,\"lxml\")"
   ]
  },
  {
   "cell_type": "code",
   "execution_count": 73,
   "id": "5480e816",
   "metadata": {},
   "outputs": [],
   "source": [
    "title = melonsoup.select(\"div.ellipsis.rank01 > span > a\")"
   ]
  },
  {
   "cell_type": "code",
   "execution_count": 74,
   "id": "aabc53a9",
   "metadata": {},
   "outputs": [],
   "source": [
    "singer = melonsoup.select(\"div.ellipsis.rank02 > span.checkEllipsis\")"
   ]
  },
  {
   "cell_type": "code",
   "execution_count": 75,
   "id": "d1368e1e",
   "metadata": {},
   "outputs": [],
   "source": [
    "title_list = []\n",
    "singer_list = []\n",
    "rank=[]\n",
    "for i in range(100) :\n",
    "    rank.append(i+1)\n",
    "    title_list.append(title[i].text)\n",
    "    singer_list.append(singer[i].text)"
   ]
  },
  {
   "cell_type": "code",
   "execution_count": 79,
   "id": "6b95a471",
   "metadata": {},
   "outputs": [],
   "source": [
    "pineapple = pd.DataFrame({\"순위\": rank, \"곡명\":title_list, \"가수\": singer_list })"
   ]
  },
  {
   "cell_type": "code",
   "execution_count": 80,
   "id": "0234da68",
   "metadata": {},
   "outputs": [],
   "source": [
    "pineapple.set_index(\"순위\",inplace=True)"
   ]
  },
  {
   "cell_type": "code",
   "execution_count": 81,
   "id": "53c1211e",
   "metadata": {},
   "outputs": [
    {
     "data": {
      "text/html": [
       "<div>\n",
       "<style scoped>\n",
       "    .dataframe tbody tr th:only-of-type {\n",
       "        vertical-align: middle;\n",
       "    }\n",
       "\n",
       "    .dataframe tbody tr th {\n",
       "        vertical-align: top;\n",
       "    }\n",
       "\n",
       "    .dataframe thead th {\n",
       "        text-align: right;\n",
       "    }\n",
       "</style>\n",
       "<table border=\"1\" class=\"dataframe\">\n",
       "  <thead>\n",
       "    <tr style=\"text-align: right;\">\n",
       "      <th></th>\n",
       "      <th>곡명</th>\n",
       "      <th>가수</th>\n",
       "    </tr>\n",
       "    <tr>\n",
       "      <th>순위</th>\n",
       "      <th></th>\n",
       "      <th></th>\n",
       "    </tr>\n",
       "  </thead>\n",
       "  <tbody>\n",
       "    <tr>\n",
       "      <th>1</th>\n",
       "      <td>밤양갱</td>\n",
       "      <td>비비 (BIBI)</td>\n",
       "    </tr>\n",
       "    <tr>\n",
       "      <th>2</th>\n",
       "      <td>Love wins all</td>\n",
       "      <td>아이유</td>\n",
       "    </tr>\n",
       "    <tr>\n",
       "      <th>3</th>\n",
       "      <td>첫 만남은 계획대로 되지 않아</td>\n",
       "      <td>TWS (투어스)</td>\n",
       "    </tr>\n",
       "    <tr>\n",
       "      <th>4</th>\n",
       "      <td>To. X</td>\n",
       "      <td>태연 (TAEYEON)</td>\n",
       "    </tr>\n",
       "    <tr>\n",
       "      <th>5</th>\n",
       "      <td>홀씨</td>\n",
       "      <td>아이유</td>\n",
       "    </tr>\n",
       "    <tr>\n",
       "      <th>...</th>\n",
       "      <td>...</td>\n",
       "      <td>...</td>\n",
       "    </tr>\n",
       "    <tr>\n",
       "      <th>96</th>\n",
       "      <td>Merry PLLIstmas</td>\n",
       "      <td>PLAVE</td>\n",
       "    </tr>\n",
       "    <tr>\n",
       "      <th>97</th>\n",
       "      <td>I Love You</td>\n",
       "      <td>안세하</td>\n",
       "    </tr>\n",
       "    <tr>\n",
       "      <th>98</th>\n",
       "      <td>Bubble</td>\n",
       "      <td>STAYC(스테이씨)</td>\n",
       "    </tr>\n",
       "    <tr>\n",
       "      <th>99</th>\n",
       "      <td>여섯 번째 여름</td>\n",
       "      <td>PLAVE</td>\n",
       "    </tr>\n",
       "    <tr>\n",
       "      <th>100</th>\n",
       "      <td>나에게 그대만이</td>\n",
       "      <td>탑현</td>\n",
       "    </tr>\n",
       "  </tbody>\n",
       "</table>\n",
       "<p>100 rows × 2 columns</p>\n",
       "</div>"
      ],
      "text/plain": [
       "                   곡명            가수\n",
       "순위                                 \n",
       "1                 밤양갱     비비 (BIBI)\n",
       "2       Love wins all           아이유\n",
       "3    첫 만남은 계획대로 되지 않아     TWS (투어스)\n",
       "4               To. X  태연 (TAEYEON)\n",
       "5                  홀씨           아이유\n",
       "..                ...           ...\n",
       "96    Merry PLLIstmas         PLAVE\n",
       "97         I Love You           안세하\n",
       "98             Bubble   STAYC(스테이씨)\n",
       "99           여섯 번째 여름         PLAVE\n",
       "100          나에게 그대만이            탑현\n",
       "\n",
       "[100 rows x 2 columns]"
      ]
     },
     "execution_count": 81,
     "metadata": {},
     "output_type": "execute_result"
    }
   ],
   "source": [
    "pineapple"
   ]
  },
  {
   "cell_type": "code",
   "execution_count": 82,
   "id": "c9862adf",
   "metadata": {},
   "outputs": [],
   "source": [
    "pineapple.to_csv(\"파인애플.csv\", encoding =\"utf-8\")"
   ]
  },
  {
   "cell_type": "markdown",
   "id": "9c9091fc",
   "metadata": {},
   "source": [
    "# 문제5\n",
    "자동제어를 통해 한솥 페이지에 접속하고 전체 메뉴의 메뉴명 가격정보를 수집할 수 있는 프로그램을 작성하세요 "
   ]
  },
  {
   "cell_type": "code",
   "execution_count": 100,
   "id": "a7ee4451",
   "metadata": {},
   "outputs": [],
   "source": [
    "driver = wb.Chrome()\n",
    "driver.get(\"https://www.hsd.co.kr/menu/menu_list\")"
   ]
  },
  {
   "cell_type": "code",
   "execution_count": 101,
   "id": "605bb7ac",
   "metadata": {},
   "outputs": [
    {
     "name": "stdout",
     "output_type": "stream",
     "text": [
      "더보기 완료\n"
     ]
    }
   ],
   "source": [
    "body = driver.find_element(By.TAG_NAME,\"body\")\n",
    "try : \n",
    "    for i in range(50) :\n",
    "        body.send_keys(Keys.END)\n",
    "        time.sleep(1)\n",
    "        morebtn=driver.find_element(By.CSS_SELECTOR, \"#btn_more > span > a\")\n",
    "        morebtn.click()\n",
    "        time.sleep(1)\n",
    "except :\n",
    "    print(\"더보기 완료\")\n"
   ]
  },
  {
   "cell_type": "markdown",
   "id": "f78878fb",
   "metadata": {},
   "source": [
    "화면 배율 75%로 해야작동"
   ]
  },
  {
   "cell_type": "code",
   "execution_count": 102,
   "id": "10f8f331",
   "metadata": {},
   "outputs": [],
   "source": [
    "name = driver.find_elements(By.CSS_SELECTOR,\"div > div.item-text > h4\")\n",
    "price = driver.find_elements(By.CSS_SELECTOR,\"div > div.item-text > div > strong\")"
   ]
  },
  {
   "cell_type": "code",
   "execution_count": 109,
   "id": "43c4eddb",
   "metadata": {},
   "outputs": [],
   "source": [
    "title=[]\n",
    "cost=[]\n",
    "for i in range(len(name)) : \n",
    "    title.append(name[i].text)\n",
    "    cost.append(price[i].text)"
   ]
  },
  {
   "cell_type": "code",
   "execution_count": 111,
   "id": "de711e85",
   "metadata": {},
   "outputs": [],
   "source": [
    "hansot= pd.DataFrame({\"메뉴명\": title, \"가격정보\":cost})"
   ]
  },
  {
   "cell_type": "code",
   "execution_count": 113,
   "id": "e110749e",
   "metadata": {},
   "outputs": [],
   "source": [
    "hansot.set_index(\"메뉴명\",inplace=True)"
   ]
  },
  {
   "cell_type": "code",
   "execution_count": 118,
   "id": "fd9c35af",
   "metadata": {},
   "outputs": [],
   "source": [
    "hansot.to_csv(\"한솥.csv\",encoding = \"utf-8\")"
   ]
  }
 ],
 "metadata": {
  "kernelspec": {
   "display_name": "Python 3 (ipykernel)",
   "language": "python",
   "name": "python3"
  },
  "language_info": {
   "codemirror_mode": {
    "name": "ipython",
    "version": 3
   },
   "file_extension": ".py",
   "mimetype": "text/x-python",
   "name": "python",
   "nbconvert_exporter": "python",
   "pygments_lexer": "ipython3",
   "version": "3.11.5"
  }
 },
 "nbformat": 4,
 "nbformat_minor": 5
}
